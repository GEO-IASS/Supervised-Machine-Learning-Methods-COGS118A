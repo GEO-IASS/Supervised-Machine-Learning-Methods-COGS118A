{
 "cells": [
  {
   "cell_type": "code",
   "execution_count": 1,
   "metadata": {
    "collapsed": false
   },
   "outputs": [],
   "source": [
    "# Copyright Daniel Reznikov, Yunfan Yang all rights reserved\n",
    "# Final Project COGS 118a, Winter 2016\n",
    "# Notebook Implements K-Nearest-Neighbors Classifier on breast_cancer dataset"
   ]
  },
  {
   "cell_type": "code",
   "execution_count": 1,
   "metadata": {
    "collapsed": false
   },
   "outputs": [
    {
     "name": "stderr",
     "output_type": "stream",
     "text": [
      "/usr/local/lib/python3.4/dist-packages/sklearn/cross_validation.py:43: DeprecationWarning: This module has been deprecated in favor of the model_selection module into which all the refactored classes and functions are moved. Also note that the interface of the new CV iterators are different from that of this module. This module will be removed in 0.20.\n",
      "  \"This module will be removed in 0.20.\", DeprecationWarning)\n",
      "/usr/local/lib/python3.4/dist-packages/sklearn/grid_search.py:43: DeprecationWarning: This module has been deprecated in favor of the model_selection module into which all the refactored classes and functions are moved. This module will be removed in 0.20.\n",
      "  DeprecationWarning)\n"
     ]
    }
   ],
   "source": [
    "import warnings\n",
    "warnings.filterwarnings(\"ignore\")\n",
    "import sklearn.cross_validation as cv\n",
    "from sklearn.neighbors import KNeighborsClassifier\n",
    "from sklearn.grid_search import GridSearchCV\n",
    "import numpy as np\n",
    "\n",
    "# Import data\n",
    "# X: features is a vectors of 16 integer attributes extracted from raster scan images of the letters.\n",
    "X = [list(map(int, x.split(',')[1:])) for x in open('letter-recognition.data').read().splitlines()]\n",
    "\n",
    "# Y: the label, we are setting label = 1 when letter = 'O'\n",
    "Y = [1 if x.split(',')[0] <= 'M' else -1 for x in open('letter-recognition.data').read().splitlines()]\n",
    "\n",
    "# Split the dataset. Training will be on 5000/20,000 as in the Caruana 06' Paper\n",
    "xTrain, xTest, yTrain, yTest = cv.train_test_split(X, Y, train_size = 5000/float(len(X)))"
   ]
  },
  {
   "cell_type": "code",
   "execution_count": 2,
   "metadata": {
    "collapsed": false
   },
   "outputs": [
    {
     "name": "stdout",
     "output_type": "stream",
     "text": [
      "---KNN report---\n",
      "best number of neighbors:1\n",
      "training time: 1.418128490447998s\n",
      "Model accuracy: 0.955\n",
      "prediction time: 0.7664828300476074s\n",
      "f1 score accuracy: 0.954621848739\n",
      "             precision    recall  f1-score   support\n",
      "\n",
      "         -1     0.9557    0.9551    0.9554      7565\n",
      "          1     0.9543    0.9549    0.9546      7435\n",
      "\n",
      "avg / total     0.9550    0.9550    0.9550     15000\n",
      "\n",
      "area under roc score: 0.954999508852\n",
      "\n",
      "\n",
      "\n",
      "---Random Forest report---\n",
      "best number of max_features:4\n",
      "training time: 2.379220485687256s\n",
      "Model accuracy: 0.940466666667\n",
      "prediction time: 0.18825125694274902s\n",
      "f1 score accuracy: 0.940119358949\n",
      "             precision    recall  f1-score   support\n",
      "\n",
      "         -1     0.9435    0.9381    0.9408      7565\n",
      "          1     0.9374    0.9428    0.9401      7435\n",
      "\n",
      "avg / total     0.9405    0.9405    0.9405     15000\n",
      "\n",
      "area under roc score: 0.940487041027\n",
      "\n",
      "\n",
      "\n",
      "---LinearSVM report---\n",
      "best number of C:0.1\n",
      "training time: 0.41895055770874023s\n",
      "Model accuracy: 0.504333333333\n",
      "prediction time: 0.015073060989379883s\n",
      "f1 score accuracy: 0.0\n",
      "             precision    recall  f1-score   support\n",
      "\n",
      "         -1     0.5043    1.0000    0.6705      7565\n",
      "          1     0.0000    0.0000    0.0000      7435\n",
      "\n",
      "avg / total     0.2544    0.5043    0.3382     15000\n",
      "\n",
      "area under roc score: 0.5\n",
      "\n",
      "\n",
      "\n",
      "---Boosted Decision Tree report---\n",
      "best number of n_estimators:256\n",
      "training time: 38.984976053237915s\n",
      "Model accuracy: 0.825066666667\n",
      "prediction time: 0.4441030025482178s\n",
      "f1 score accuracy: 0.823916252852\n",
      "             precision    recall  f1-score   support\n",
      "\n",
      "         -1     0.8280    0.8245    0.8262      7565\n",
      "          1     0.8222    0.8257    0.8239      7435\n",
      "\n",
      "avg / total     0.8251    0.8251    0.8251     15000\n",
      "\n",
      "area under roc score: 0.82507201652\n",
      "\n",
      "\n",
      "\n",
      "---Neural Nets report---\n",
      "best learning_rate_init 0.010\n",
      "training time: 26.17535948753357s\n",
      "Model accuracy: 0.8538\n",
      "prediction time: 0.22520899772644043s\n",
      "f1 score accuracy: 0.858415649816\n",
      "             precision    recall  f1-score   support\n",
      "\n",
      "         -1     0.8867    0.8141    0.8489      7565\n",
      "          1     0.8254    0.8941    0.8584      7435\n",
      "\n",
      "avg / total     0.8563    0.8538    0.8536     15000\n",
      "\n",
      "area under roc score: 0.85414668924\n",
      "\n",
      "\n",
      "\n",
      "---XGBoost report---\n",
      "best number of n_estimators:2048\n",
      "training time: 6.772765159606934s\n",
      "Model accuracy: 0.934666666667\n",
      "prediction time: 0.09777474403381348s\n",
      "f1 score accuracy: 0.934386716658\n",
      "             precision    recall  f1-score   support\n",
      "\n",
      "         -1     0.9391    0.9309    0.9349      7565\n",
      "          1     0.9303    0.9385    0.9344      7435\n",
      "\n",
      "avg / total     0.9347    0.9347    0.9347     15000\n",
      "\n",
      "area under roc score: 0.934699895237\n",
      "\n",
      "\n",
      "\n"
     ]
    }
   ],
   "source": [
    "import Classifiers as clfs\n",
    "clfs.KNN(xTrain, xTest, yTrain, yTest)\n",
    "clfs.RandomForest(xTrain, xTest, yTrain, yTest)\n",
    "#clfs.SVM(xTrain, xTest, yTrain, yTest)\n",
    "clfs.linearSVC(xTrain, xTest, yTrain, yTest)\n",
    "clfs.BoostedDecisionTree(xTrain, xTest, yTrain, yTest)\n",
    "clfs.NeuralNets(xTrain, xTest, yTrain, yTest)\n",
    "clfs.XGBoost(xTrain, xTest, yTrain, yTest)"
   ]
  },
  {
   "cell_type": "code",
   "execution_count": null,
   "metadata": {
    "collapsed": true
   },
   "outputs": [],
   "source": []
  }
 ],
 "metadata": {
  "kernelspec": {
   "display_name": "Python 3",
   "language": "python",
   "name": "python3"
  },
  "language_info": {
   "codemirror_mode": {
    "name": "ipython",
    "version": 3
   },
   "file_extension": ".py",
   "mimetype": "text/x-python",
   "name": "python",
   "nbconvert_exporter": "python",
   "pygments_lexer": "ipython3",
   "version": "3.4.1"
  }
 },
 "nbformat": 4,
 "nbformat_minor": 0
}
