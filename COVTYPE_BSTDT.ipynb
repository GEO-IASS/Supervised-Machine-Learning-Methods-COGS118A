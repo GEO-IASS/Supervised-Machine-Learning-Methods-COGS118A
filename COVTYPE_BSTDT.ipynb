{
 "cells": [
  {
   "cell_type": "code",
   "execution_count": 3,
   "metadata": {
    "collapsed": false
   },
   "outputs": [
    {
     "name": "stdout",
     "output_type": "stream",
     "text": [
      "best steps of boosting 128.00\n",
      "Testing error: 0.13972\n"
     ]
    }
   ],
   "source": [
    "# COVTYPE on Boosted Decision Tree\n",
    "import numpy as np\n",
    "import sklearn.cross_validation as cv\n",
    "from sklearn.grid_search import GridSearchCV\n",
    "from collections import Counter\n",
    "from sklearn.ensemble import AdaBoostClassifier\n",
    "\n",
    "CPU_CORES = 6\n",
    "# cap input data size\n",
    "SIZE_DATA = 30000\n",
    "\n",
    "def largestClass(labels):\n",
    "    c = Counter(labels)\n",
    "    return c.most_common()[0][0]\n",
    "\n",
    "# import data\n",
    "# X: 54 features\n",
    "# Y: 1 label \n",
    "X = [x.split(',')[:-1] for x in open('covtype.data').read().splitlines()[:SIZE_DATA]]\n",
    "_Y = [x.split(',')[-1] for x in open('covtype.data').read().splitlines()[:SIZE_DATA]]\n",
    "larg = largestClass(_Y)\n",
    "# treat the largest class as positive, the rest as negative\n",
    "Y = [1 if x == larg else -1 for x in _Y]\n",
    "\n",
    "param_grid = {\n",
    "    'n_estimators': [2, 4, 8, 16, 32, 64, 128, 256, 512, 1024, 2048]#, 4096, 8192]\n",
    "}\n",
    "\n",
    "# classify\n",
    "clf = AdaBoostClassifier()\n",
    "X_train, X_test, Y_train, Y_test = cv.train_test_split(X, Y, train_size = 5000/len(X))\n",
    "CV = GridSearchCV(estimator=clf, param_grid = param_grid, cv = 5, n_jobs = CPU_CORES)\n",
    "CV.fit(X_train, Y_train)\n",
    "print(\"best steps of boosting \" + \"{0:.2f}\".format(CV.best_params_['n_estimators']))\n",
    "\n",
    "#train_error = 1 - CV.score(X_train, Y_train)\n",
    "test_error1 = 1 - CV.score(X_test, Y_test)\n",
    "#print(\"Training error: \" + str(train_error))\n",
    "print(\"Testing error: \" + str(test_error1))\n",
    "\n"
   ]
  },
  {
   "cell_type": "code",
   "execution_count": null,
   "metadata": {
    "collapsed": true
   },
   "outputs": [],
   "source": []
  },
  {
   "cell_type": "code",
   "execution_count": null,
   "metadata": {
    "collapsed": true
   },
   "outputs": [],
   "source": []
  }
 ],
 "metadata": {
  "kernelspec": {
   "display_name": "Python 3",
   "language": "python",
   "name": "python3"
  },
  "language_info": {
   "codemirror_mode": {
    "name": "ipython",
    "version": 3
   },
   "file_extension": ".py",
   "mimetype": "text/x-python",
   "name": "python",
   "nbconvert_exporter": "python",
   "pygments_lexer": "ipython3",
   "version": "3.4.1"
  }
 },
 "nbformat": 4,
 "nbformat_minor": 0
}
