{
 "cells": [
  {
   "cell_type": "code",
   "execution_count": 1,
   "metadata": {
    "collapsed": false
   },
   "outputs": [
    {
     "name": "stderr",
     "output_type": "stream",
     "text": [
      "/usr/local/lib/python3.4/dist-packages/sklearn/cross_validation.py:43: DeprecationWarning: This module has been deprecated in favor of the model_selection module into which all the refactored classes and functions are moved. Also note that the interface of the new CV iterators are different from that of this module. This module will be removed in 0.20.\n",
      "  \"This module will be removed in 0.20.\", DeprecationWarning)\n",
      "/usr/local/lib/python3.4/dist-packages/sklearn/grid_search.py:43: DeprecationWarning: This module has been deprecated in favor of the model_selection module into which all the refactored classes and functions are moved. This module will be removed in 0.20.\n",
      "  DeprecationWarning)\n"
     ]
    }
   ],
   "source": [
    "import warnings\n",
    "warnings.filterwarnings(\"ignore\")\n",
    "import numpy as np\n",
    "import sklearn.cross_validation as cv\n",
    "from sklearn.grid_search import GridSearchCV\n",
    "from collections import Counter\n",
    "\n",
    "# cap input data size\n",
    "SIZE_DATA = 30000\n",
    "\n",
    "def largestClass(labels):\n",
    "    c = Counter(labels)\n",
    "    return c.most_common()[0][0]\n",
    "\n",
    "# import data\n",
    "# X: 54 features\n",
    "# Y: 1 label \n",
    "X = [list(map(int, x.split(',')[:-1])) for x in open('covtype.data').read().splitlines()[:SIZE_DATA]]\n",
    "_Y = [x.split(',')[-1] for x in open('covtype.data').read().splitlines()[:SIZE_DATA]]\n",
    "larg = largestClass(_Y)\n",
    "# treat the largest class as positive, the rest as negative\n",
    "Y = [1 if x == larg else -1 for x in _Y]\n",
    "\n",
    "xTrain, xTest, yTrain, yTest = cv.train_test_split(X, Y, train_size = 5000/len(X))"
   ]
  },
  {
   "cell_type": "code",
   "execution_count": 2,
   "metadata": {
    "collapsed": false
   },
   "outputs": [
    {
     "name": "stdout",
     "output_type": "stream",
     "text": [
      "---KNN report---\n",
      "best number of neighbors:1\n",
      "training time: 1.0931940078735352s\n",
      "Model accuracy: 0.91324\n",
      "prediction time: 0.5101990699768066s\n",
      "f1 score accuracy: 0.90757233562\n",
      "             precision    recall  f1-score   support\n",
      "\n",
      "         -1     0.9124    0.9242    0.9183     13181\n",
      "          1     0.9142    0.9010    0.9076     11819\n",
      "\n",
      "avg / total     0.9133    0.9132    0.9132     25000\n",
      "\n",
      "area under roc score: 0.912607971106\n",
      "\n",
      "\n",
      "\n",
      "---Random Forest report---\n",
      "best number of max_features:16\n",
      "training time: 3.709258556365967s\n",
      "Model accuracy: 0.92024\n",
      "prediction time: 0.3587632179260254s\n",
      "f1 score accuracy: 0.914449974258\n",
      "             precision    recall  f1-score   support\n",
      "\n",
      "         -1     0.9140    0.9369    0.9253     13181\n",
      "          1     0.9276    0.9017    0.9144     11819\n",
      "\n",
      "avg / total     0.9204    0.9202    0.9202     25000\n",
      "\n",
      "area under roc score: 0.919281285172\n",
      "\n",
      "\n",
      "\n",
      "---Boosted Decision Tree report---\n",
      "best number of n_estimators:128\n",
      "training time: 41.3762640953064s\n",
      "Model accuracy: 0.8628\n",
      "prediction time: 0.49709033966064453s\n",
      "f1 score accuracy: 0.860942187627\n",
      "             precision    recall  f1-score   support\n",
      "\n",
      "         -1     0.9012    0.8309    0.8646     13181\n",
      "          1     0.8265    0.8984    0.8609     11819\n",
      "\n",
      "avg / total     0.8659    0.8628    0.8629     25000\n",
      "\n",
      "area under roc score: 0.864638455005\n",
      "\n",
      "\n",
      "\n",
      "---Neural Nets report---\n",
      "best learning_rate_init 0.001\n",
      "training time: 31.385154724121094s\n",
      "Model accuracy: 0.80412\n",
      "prediction time: 1.1357452869415283s\n",
      "f1 score accuracy: 0.807409446651\n",
      "             precision    recall  f1-score   support\n",
      "\n",
      "         -1     0.8636    0.7464    0.8007     13181\n",
      "          1     0.7543    0.8685    0.8074     11819\n",
      "\n",
      "avg / total     0.8119    0.8041    0.8039     25000\n",
      "\n",
      "area under roc score: 0.807447078172\n",
      "\n",
      "\n",
      "\n",
      "---LinearSVM report---\n",
      "best number of C:0.1\n",
      "training time: 0.664158821105957s\n",
      "Model accuracy: 0.52724\n",
      "prediction time: 0.08764767646789551s\n",
      "f1 score accuracy: 0.0\n",
      "             precision    recall  f1-score   support\n",
      "\n",
      "         -1     0.5272    1.0000    0.6904     13181\n",
      "          1     0.0000    0.0000    0.0000     11819\n",
      "\n",
      "avg / total     0.2780    0.5272    0.3640     25000\n",
      "\n",
      "area under roc score: 0.5\n",
      "\n",
      "\n",
      "\n",
      "---XGBoost report---\n",
      "best number of n_estimators:2048\n",
      "training time: 16.592697143554688s\n",
      "Model accuracy: 0.91588\n",
      "prediction time: 0.17978310585021973s\n",
      "f1 score accuracy: 0.91048397395\n",
      "             precision    recall  f1-score   support\n",
      "\n",
      "         -1     0.9157    0.9257    0.9207     13181\n",
      "          1     0.9161    0.9049    0.9105     11819\n",
      "\n",
      "avg / total     0.9159    0.9159    0.9159     25000\n",
      "\n",
      "area under roc score: 0.915312658007\n",
      "\n",
      "\n",
      "\n"
     ]
    }
   ],
   "source": [
    "import Classifiers as clfs\n",
    "clfs.KNN(xTrain, xTest, yTrain, yTest)\n",
    "clfs.RandomForest(xTrain, xTest, yTrain, yTest)\n",
    "clfs.BoostedDecisionTree(xTrain, xTest, yTrain, yTest)\n",
    "clfs.NeuralNets(xTrain, xTest, yTrain, yTest)\n",
    "#clfs.SVM(xTrain, xTest, yTrain, yTest)\n",
    "clfs.linearSVC(xTrain, xTest, yTrain, yTest)\n",
    "import Classifiers as clfs\n",
    "clfs.XGBoost(xTrain, xTest, yTrain, yTest)"
   ]
  },
  {
   "cell_type": "code",
   "execution_count": null,
   "metadata": {
    "collapsed": true
   },
   "outputs": [],
   "source": []
  }
 ],
 "metadata": {
  "kernelspec": {
   "display_name": "Python 3",
   "language": "python",
   "name": "python3"
  },
  "language_info": {
   "codemirror_mode": {
    "name": "ipython",
    "version": 3
   },
   "file_extension": ".py",
   "mimetype": "text/x-python",
   "name": "python",
   "nbconvert_exporter": "python",
   "pygments_lexer": "ipython3",
   "version": "3.4.3"
  }
 },
 "nbformat": 4,
 "nbformat_minor": 0
}
