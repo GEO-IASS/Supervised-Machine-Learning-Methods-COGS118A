{
 "cells": [
  {
   "cell_type": "code",
   "execution_count": 1,
   "metadata": {
    "collapsed": false
   },
   "outputs": [
    {
     "ename": "SyntaxError",
     "evalue": "invalid syntax (<ipython-input-1-e8a08dd65f40>, line 30)",
     "output_type": "error",
     "traceback": [
      "\u001b[0;36m  File \u001b[0;32m\"<ipython-input-1-e8a08dd65f40>\"\u001b[0;36m, line \u001b[0;32m30\u001b[0m\n\u001b[0;31m    best max_features 12.00\u001b[0m\n\u001b[0m                    ^\u001b[0m\n\u001b[0;31mSyntaxError\u001b[0m\u001b[0;31m:\u001b[0m invalid syntax\n"
     ]
    }
   ],
   "source": [
    "# LETTER.p1 on Random forest\n",
    "import numpy as np\n",
    "import sklearn.cross_validation as cv\n",
    "from sklearn.ensemble import RandomForestClassifier\n",
    "from sklearn.grid_search import GridSearchCV\n",
    "CPU_CORES = 6\n",
    "\n",
    "# import data\n",
    "# X: features\n",
    "# Y: labels\n",
    "X = [list(map(int, x.split(',')[1:])) for x in open('letter-recognition.data').read().splitlines()]\n",
    "Y = [1 if x.split(',')[0] == 'O' else -1 for x in open('letter-recognition.data').read().splitlines()]\n",
    "\n",
    "param_grid = {\n",
    "    'max_features': [1,2,4,6,8,12,16, 20]\n",
    "}\n",
    "\n",
    "# classify\n",
    "clf = RandomForestClassifier(n_estimators = 100)\n",
    "X_train, X_test, Y_train, Y_test = cv.train_test_split(X, Y, train_size = 5000/len(X))\n",
    "\n",
    "CV = GridSearchCV(estimator=clf, param_grid = param_grid, cv = 5, n_jobs = CPU_CORES)\n",
    "CV.fit(X_train, Y_train)\n",
    "print(\"best max_features \" + \"{0:.2f}\".format(CV.best_params_['max_features']))\n",
    "\n",
    "#train_error = 1 - CV.score(X_train, Y_train)\n",
    "test_error1 = 1 - CV.score(X_test, Y_test)\n",
    "#print(\"Training error: \" + str(train_error))\n",
    "print(\"Testing error: \" + str(test_error1))\n",
    "best max_features 12.00\n",
    "Testing error: 0.0111333333333"
   ]
  },
  {
   "cell_type": "code",
   "execution_count": null,
   "metadata": {
    "collapsed": true
   },
   "outputs": [],
   "source": []
  }
 ],
 "metadata": {
  "kernelspec": {
   "display_name": "Python 2",
   "language": "python",
   "name": "python2"
  },
  "language_info": {
   "codemirror_mode": {
    "name": "ipython",
    "version": 2
   },
   "file_extension": ".py",
   "mimetype": "text/x-python",
   "name": "python",
   "nbconvert_exporter": "python",
   "pygments_lexer": "ipython2",
   "version": "2.7.11"
  }
 },
 "nbformat": 4,
 "nbformat_minor": 0
}
