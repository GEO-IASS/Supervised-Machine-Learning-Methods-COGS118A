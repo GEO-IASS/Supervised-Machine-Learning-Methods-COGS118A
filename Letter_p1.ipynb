{
 "cells": [
  {
   "cell_type": "code",
   "execution_count": 1,
   "metadata": {
    "collapsed": false
   },
   "outputs": [],
   "source": [
    "# Copyright Daniel Reznikov, Yunfan Yang all rights reserved\n",
    "# Final Project COGS 118a, Winter 2016\n",
    "# Notebook Implements K-Nearest-Neighbors Classifier on breast_cancer dataset"
   ]
  },
  {
   "cell_type": "code",
   "execution_count": 2,
   "metadata": {
    "collapsed": false
   },
   "outputs": [],
   "source": [
    "import warnings\n",
    "warnings.filterwarnings(\"ignore\")\n",
    "import sklearn.cross_validation as cv\n",
    "from sklearn.neighbors import KNeighborsClassifier\n",
    "from sklearn.grid_search import GridSearchCV\n",
    "import numpy as np\n",
    "\n",
    "# Import data\n",
    "# X: features is a vectors of 16 integer attributes extracted from raster scan images of the letters.\n",
    "X = [list(map(int, x.split(',')[1:])) for x in open('letter-recognition.data').read().splitlines()]\n",
    "\n",
    "# Y: the label, we are setting label = 1 when letter = 'O'\n",
    "Y = [1 if x.split(',')[0] == 'O' else -1 for x in open('letter-recognition.data').read().splitlines()]\n",
    "\n",
    "# Split the dataset. Training will be on 5000/20,000 as in the Caruana 06' Paper\n",
    "xTrain, xTest, yTrain, yTest = cv.train_test_split(X, Y, train_size = 5000/float(len(X)))"
   ]
  },
  {
   "cell_type": "code",
   "execution_count": 3,
   "metadata": {
    "collapsed": false
   },
   "outputs": [
    {
     "name": "stdout",
     "output_type": "stream",
     "text": [
      "---KNN report---\n",
      "best number of neighbors:3\n",
      "training time: 1.526660442352295s\n",
      "Model accuracy: 0.990866666667\n",
      "prediction time: 1.0608644485473633s\n",
      "f1 score accuracy: 0.8797190518\n",
      "             precision    recall  f1-score   support\n",
      "\n",
      "         -1     0.9945    0.9960    0.9953     14420\n",
      "          1     0.8962    0.8638    0.8797       580\n",
      "\n",
      "avg / total     0.9907    0.9909    0.9908     15000\n",
      "\n",
      "area under roc score: 0.929885456024\n",
      "\n",
      "\n",
      "\n",
      "---Random Forest report---\n",
      "best number of max_features:12\n",
      "training time: 1.7438881397247314s\n",
      "Model accuracy: 0.988733333333\n",
      "prediction time: 0.12106919288635254s\n",
      "f1 score accuracy: 0.837656099904\n",
      "             precision    recall  f1-score   support\n",
      "\n",
      "         -1     0.9901    0.9983    0.9942     14420\n",
      "          1     0.9458    0.7517    0.8377       580\n",
      "\n",
      "avg / total     0.9884    0.9887    0.9881     15000\n",
      "\n",
      "area under roc score: 0.874995217371\n",
      "\n",
      "\n",
      "\n",
      "---LinearSVM report---\n",
      "best number of C:0.1\n",
      "training time: 0.41727256774902344s\n",
      "Model accuracy: 0.961333333333\n",
      "prediction time: 0.016388654708862305s\n",
      "f1 score accuracy: 0.0\n",
      "             precision    recall  f1-score   support\n",
      "\n",
      "         -1     0.9613    1.0000    0.9803     14420\n",
      "          1     0.0000    0.0000    0.0000       580\n",
      "\n",
      "avg / total     0.9242    0.9613    0.9424     15000\n",
      "\n",
      "area under roc score: 0.5\n",
      "\n",
      "\n",
      "\n",
      "---Boosted Decision Tree report---\n",
      "best number of n_estimators:64\n",
      "training time: 31.919545888900757s\n",
      "Model accuracy: 0.979133333333\n",
      "prediction time: 0.1295914649963379s\n",
      "f1 score accuracy: 0.699904122723\n",
      "             precision    recall  f1-score   support\n",
      "\n",
      "         -1     0.9852    0.9932    0.9892     14420\n",
      "          1     0.7883    0.6293    0.6999       580\n",
      "\n",
      "avg / total     0.9776    0.9791    0.9780     15000\n",
      "\n",
      "area under roc score: 0.811257114161\n",
      "\n",
      "\n",
      "\n",
      "---Neural Nets report---\n",
      "best learning_rate_init 0.001\n",
      "training time: 8.97378921508789s\n",
      "Model accuracy: 0.961333333333\n",
      "prediction time: 0.22466731071472168s\n",
      "f1 score accuracy: 0.0\n",
      "             precision    recall  f1-score   support\n",
      "\n",
      "         -1     0.9613    1.0000    0.9803     14420\n",
      "          1     0.0000    0.0000    0.0000       580\n",
      "\n",
      "avg / total     0.9242    0.9613    0.9424     15000\n",
      "\n",
      "area under roc score: 0.5\n",
      "\n",
      "\n",
      "\n",
      "---XGBoost report---\n",
      "best number of n_estimators:2048\n",
      "training time: 6.627408504486084s\n",
      "Model accuracy: 0.990933333333\n",
      "prediction time: 0.09180307388305664s\n",
      "f1 score accuracy: 0.875229357798\n",
      "             precision    recall  f1-score   support\n",
      "\n",
      "         -1     0.9929    0.9977    0.9953     14420\n",
      "          1     0.9353    0.8224    0.8752       580\n",
      "\n",
      "avg / total     0.9907    0.9909    0.9907     15000\n",
      "\n",
      "area under roc score: 0.910062652446\n",
      "\n",
      "\n",
      "\n"
     ]
    }
   ],
   "source": [
    "import Classifiers as clfs\n",
    "clfs.KNN(xTrain, xTest, yTrain, yTest)\n",
    "clfs.RandomForest(xTrain, xTest, yTrain, yTest)\n",
    "#clfs.SVM(xTrain, xTest, yTrain, yTest)\n",
    "clfs.linearSVC(xTrain, xTest, yTrain, yTest)\n",
    "clfs.BoostedDecisionTree(xTrain, xTest, yTrain, yTest)\n",
    "clfs.NeuralNets(xTrain, xTest, yTrain, yTest)\n",
    "clfs.XGBoost(xTrain, xTest, yTrain, yTest)"
   ]
  },
  {
   "cell_type": "code",
   "execution_count": null,
   "metadata": {
    "collapsed": true
   },
   "outputs": [],
   "source": []
  }
 ],
 "metadata": {
  "kernelspec": {
   "display_name": "Python 3",
   "language": "python",
   "name": "python3"
  },
  "language_info": {
   "codemirror_mode": {
    "name": "ipython",
    "version": 3
   },
   "file_extension": ".py",
   "mimetype": "text/x-python",
   "name": "python",
   "nbconvert_exporter": "python",
   "pygments_lexer": "ipython3",
   "version": "3.4.1"
  }
 },
 "nbformat": 4,
 "nbformat_minor": 0
}
