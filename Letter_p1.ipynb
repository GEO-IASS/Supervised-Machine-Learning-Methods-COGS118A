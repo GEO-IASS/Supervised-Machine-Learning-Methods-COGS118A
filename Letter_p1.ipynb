{
 "cells": [
  {
   "cell_type": "code",
   "execution_count": 23,
   "metadata": {
    "collapsed": false
   },
   "outputs": [],
   "source": [
    "# Copyright Daniel Reznikov, Yunfan Yang all rights reserved\n",
    "# Final Project COGS 118a, Winter 2016\n",
    "# Notebook Implements K-Nearest-Neighbors Classifier on breast_cancer dataset"
   ]
  },
  {
   "cell_type": "code",
   "execution_count": 13,
   "metadata": {
    "collapsed": false
   },
   "outputs": [],
   "source": [
    "import sklearn.cross_validation as cv\n",
    "from sklearn.neighbors import KNeighborsClassifier\n",
    "from sklearn.grid_search import GridSearchCV\n",
    "import numpy as np\n",
    "\n",
    "# Optimization trick\n",
    "CPU_CORES = 4\n",
    "\n",
    "# Import data\n",
    "# X: features is a vectors of 16 integer attributes extracted from raster scan images of the letters.\n",
    "X = [list(map(int, x.split(',')[1:])) for x in open('letter-recognition.data').read().splitlines()]\n",
    "\n",
    "# Y: the label, we are setting label = 1 when letter = 'O'\n",
    "Y = [1 if x.split(',')[0] == 'O' else -1 for x in open('letter-recognition.data').read().splitlines()]\n",
    "\n",
    "# Split the dataset. Training will be on 5000/20,000 as in the Caruana 06' Paper\n",
    "xTrain, xTest, yTrain, yTest = cv.train_test_split(X, Y, train_size = 5000/float(len(X)))"
   ]
  },
  {
   "cell_type": "code",
   "execution_count": 28,
   "metadata": {
    "collapsed": false
   },
   "outputs": [
    {
     "name": "stdout",
     "output_type": "stream",
     "text": [
      "---KNN report---\n",
      "Model accuracy: 0.991533333333\n",
      "f1 score accuracy: 0.887908208297\n",
      "             precision    recall  f1-score   support\n",
      "\n",
      "         -1     0.9961    0.9951    0.9956     14441\n",
      "          1     0.8763    0.8998    0.8879       559\n",
      "\n",
      "avg / total     0.9917    0.9915    0.9916     15000\n",
      "\n",
      "area under roc score: 0.947452276049\n",
      "---Random Forest report---\n",
      "Model accuracy: 0.988733333333\n",
      "f1 score accuracy: 0.825952626159\n",
      "             precision    recall  f1-score   support\n",
      "\n",
      "         -1     0.9892    0.9992    0.9942     14441\n",
      "          1     0.9733    0.7174    0.8260       559\n",
      "\n",
      "avg / total     0.9886    0.9887    0.9879     15000\n",
      "\n",
      "area under roc score: 0.858295347462\n",
      "---SVM report---\n",
      "Model accuracy: 0.962733333333\n",
      "f1 score accuracy: 0.0\n",
      "             precision    recall  f1-score   support\n",
      "\n",
      "         -1     0.9627    1.0000    0.9810     14441\n",
      "          1     0.0000    0.0000    0.0000       559\n",
      "\n",
      "avg / total     0.9269    0.9627    0.9445     15000\n",
      "\n",
      "area under roc score: 0.5\n",
      "---Boosted Decision Tree report---\n"
     ]
    },
    {
     "name": "stderr",
     "output_type": "stream",
     "text": [
      "/Library/Frameworks/Python.framework/Versions/3.4/lib/python3.4/site-packages/sklearn/metrics/classification.py:1098: UndefinedMetricWarning: F-score is ill-defined and being set to 0.0 due to no predicted samples.\n",
      "  'precision', 'predicted', average, warn_for)\n",
      "/Library/Frameworks/Python.framework/Versions/3.4/lib/python3.4/site-packages/sklearn/metrics/classification.py:1098: UndefinedMetricWarning: Precision and F-score are ill-defined and being set to 0.0 in labels with no predicted samples.\n",
      "  'precision', 'predicted', average, warn_for)\n"
     ]
    },
    {
     "ename": "NameError",
     "evalue": "name 'cv' is not defined",
     "output_type": "error",
     "traceback": [
      "\u001b[0;31m---------------------------------------------------------------------------\u001b[0m",
      "\u001b[0;31mNameError\u001b[0m                                 Traceback (most recent call last)",
      "\u001b[0;32m<ipython-input-28-63032ec3ad92>\u001b[0m in \u001b[0;36m<module>\u001b[0;34m()\u001b[0m\n\u001b[1;32m      3\u001b[0m \u001b[0mclfs\u001b[0m\u001b[0;34m.\u001b[0m\u001b[0mRandomForest\u001b[0m\u001b[0;34m(\u001b[0m\u001b[0mxTrain\u001b[0m\u001b[0;34m,\u001b[0m \u001b[0mxTest\u001b[0m\u001b[0;34m,\u001b[0m \u001b[0myTrain\u001b[0m\u001b[0;34m,\u001b[0m \u001b[0myTest\u001b[0m\u001b[0;34m)\u001b[0m\u001b[0;34m\u001b[0m\u001b[0m\n\u001b[1;32m      4\u001b[0m \u001b[0mclfs\u001b[0m\u001b[0;34m.\u001b[0m\u001b[0mSVM\u001b[0m\u001b[0;34m(\u001b[0m\u001b[0mxTrain\u001b[0m\u001b[0;34m,\u001b[0m \u001b[0mxTest\u001b[0m\u001b[0;34m,\u001b[0m \u001b[0myTrain\u001b[0m\u001b[0;34m,\u001b[0m \u001b[0myTest\u001b[0m\u001b[0;34m)\u001b[0m\u001b[0;34m\u001b[0m\u001b[0m\n\u001b[0;32m----> 5\u001b[0;31m \u001b[0mclfs\u001b[0m\u001b[0;34m.\u001b[0m\u001b[0mBoostedDecisionTree\u001b[0m\u001b[0;34m(\u001b[0m\u001b[0mxTrain\u001b[0m\u001b[0;34m,\u001b[0m \u001b[0mxTest\u001b[0m\u001b[0;34m,\u001b[0m \u001b[0myTrain\u001b[0m\u001b[0;34m,\u001b[0m \u001b[0myTest\u001b[0m\u001b[0;34m)\u001b[0m\u001b[0;34m\u001b[0m\u001b[0m\n\u001b[0m\u001b[1;32m      6\u001b[0m \u001b[0mclfs\u001b[0m\u001b[0;34m.\u001b[0m\u001b[0mNeuralNets\u001b[0m\u001b[0;34m(\u001b[0m\u001b[0mxTrain\u001b[0m\u001b[0;34m,\u001b[0m \u001b[0mxTest\u001b[0m\u001b[0;34m,\u001b[0m \u001b[0myTrain\u001b[0m\u001b[0;34m,\u001b[0m \u001b[0myTest\u001b[0m\u001b[0;34m)\u001b[0m\u001b[0;34m\u001b[0m\u001b[0m\n",
      "\u001b[0;32m/Users/yunfanyang/Documents/SkyDrive/UCSD/winter_2016/COGS118A/scripts/COGS118A/Classifiers.py\u001b[0m in \u001b[0;36mBoostedDecisionTree\u001b[0;34m(xTrain, xTest, yTrain, yTest)\u001b[0m\n\u001b[1;32m     52\u001b[0m     \u001b[0;31m# classify\u001b[0m\u001b[0;34m\u001b[0m\u001b[0;34m\u001b[0m\u001b[0m\n\u001b[1;32m     53\u001b[0m     \u001b[0mclf\u001b[0m \u001b[0;34m=\u001b[0m \u001b[0mAdaBoostClassifier\u001b[0m\u001b[0;34m(\u001b[0m\u001b[0;34m)\u001b[0m\u001b[0;34m\u001b[0m\u001b[0m\n\u001b[0;32m---> 54\u001b[0;31m     \u001b[0mX_train\u001b[0m\u001b[0;34m,\u001b[0m \u001b[0mX_test\u001b[0m\u001b[0;34m,\u001b[0m \u001b[0mY_train\u001b[0m\u001b[0;34m,\u001b[0m \u001b[0mY_test\u001b[0m \u001b[0;34m=\u001b[0m \u001b[0mcv\u001b[0m\u001b[0;34m.\u001b[0m\u001b[0mtrain_test_split\u001b[0m\u001b[0;34m(\u001b[0m\u001b[0mX\u001b[0m\u001b[0;34m,\u001b[0m \u001b[0mY\u001b[0m\u001b[0;34m,\u001b[0m \u001b[0mtrain_size\u001b[0m \u001b[0;34m=\u001b[0m \u001b[0;36m5000\u001b[0m\u001b[0;34m/\u001b[0m\u001b[0mlen\u001b[0m\u001b[0;34m(\u001b[0m\u001b[0mX\u001b[0m\u001b[0;34m)\u001b[0m\u001b[0;34m)\u001b[0m\u001b[0;34m\u001b[0m\u001b[0m\n\u001b[0m\u001b[1;32m     55\u001b[0m     \u001b[0mCV\u001b[0m \u001b[0;34m=\u001b[0m \u001b[0mGridSearchCV\u001b[0m\u001b[0;34m(\u001b[0m\u001b[0mestimator\u001b[0m\u001b[0;34m=\u001b[0m\u001b[0mclf\u001b[0m\u001b[0;34m,\u001b[0m \u001b[0mparam_grid\u001b[0m \u001b[0;34m=\u001b[0m \u001b[0mparam_grid\u001b[0m\u001b[0;34m,\u001b[0m \u001b[0mcv\u001b[0m \u001b[0;34m=\u001b[0m \u001b[0;36m5\u001b[0m\u001b[0;34m,\u001b[0m \u001b[0mn_jobs\u001b[0m \u001b[0;34m=\u001b[0m \u001b[0mCPU_CORES\u001b[0m\u001b[0;34m)\u001b[0m\u001b[0;34m\u001b[0m\u001b[0m\n\u001b[1;32m     56\u001b[0m     \u001b[0mCV\u001b[0m\u001b[0;34m.\u001b[0m\u001b[0mfit\u001b[0m\u001b[0;34m(\u001b[0m\u001b[0mX_train\u001b[0m\u001b[0;34m,\u001b[0m \u001b[0mY_train\u001b[0m\u001b[0;34m)\u001b[0m\u001b[0;34m\u001b[0m\u001b[0m\n",
      "\u001b[0;31mNameError\u001b[0m: name 'cv' is not defined"
     ]
    }
   ],
   "source": [
    "import Classifiers as clfs\n",
    "clfs.KNN(xTrain, xTest, yTrain, yTest)\n",
    "clfs.RandomForest(xTrain, xTest, yTrain, yTest)\n",
    "clfs.SVM(xTrain, xTest, yTrain, yTest)\n",
    "clfs.BoostedDecisionTree(xTrain, xTest, yTrain, yTest)\n",
    "clfs.NeuralNets(xTrain, xTest, yTrain, yTest)"
   ]
  },
  {
   "cell_type": "code",
   "execution_count": null,
   "metadata": {
    "collapsed": true
   },
   "outputs": [],
   "source": []
  }
 ],
 "metadata": {
  "kernelspec": {
   "display_name": "Python 3",
   "language": "python",
   "name": "python3"
  },
  "language_info": {
   "codemirror_mode": {
    "name": "ipython",
    "version": 3
   },
   "file_extension": ".py",
   "mimetype": "text/x-python",
   "name": "python",
   "nbconvert_exporter": "python",
   "pygments_lexer": "ipython3",
   "version": "3.4.1"
  }
 },
 "nbformat": 4,
 "nbformat_minor": 0
}
