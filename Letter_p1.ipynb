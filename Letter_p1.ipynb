{
 "cells": [
  {
   "cell_type": "code",
   "execution_count": null,
   "metadata": {
    "collapsed": false
   },
   "outputs": [],
   "source": [
    "# Copyright Daniel Reznikov, Yunfan Yang all rights reserved\n",
    "# Final Project COGS 118a, Winter 2016\n",
    "# Notebook Implements K-Nearest-Neighbors Classifier on breast_cancer dataset"
   ]
  },
  {
   "cell_type": "code",
   "execution_count": null,
   "metadata": {
    "collapsed": false
   },
   "outputs": [],
   "source": [
    "import warnings\n",
    "warnings.filterwarnings(\"ignore\")\n",
    "import sklearn.cross_validation as cv\n",
    "from sklearn.neighbors import KNeighborsClassifier\n",
    "from sklearn.grid_search import GridSearchCV\n",
    "import numpy as np\n",
    "\n",
    "# Optimization trick\n",
    "CPU_CORES = 4\n",
    "\n",
    "# Import data\n",
    "# X: features is a vectors of 16 integer attributes extracted from raster scan images of the letters.\n",
    "X = [list(map(int, x.split(',')[1:])) for x in open('letter-recognition.data').read().splitlines()]\n",
    "\n",
    "# Y: the label, we are setting label = 1 when letter = 'O'\n",
    "Y = [1 if x.split(',')[0] == 'O' else -1 for x in open('letter-recognition.data').read().splitlines()]\n",
    "\n",
    "# Split the dataset. Training will be on 5000/20,000 as in the Caruana 06' Paper\n",
    "xTrain, xTest, yTrain, yTest = cv.train_test_split(X, Y, train_size = 5000/float(len(X)))"
   ]
  },
  {
   "cell_type": "code",
   "execution_count": null,
   "metadata": {
    "collapsed": false
   },
   "outputs": [],
   "source": [
    "import Classifiers as clfs\n",
    "clfs.KNN(xTrain, xTest, yTrain, yTest)\n",
    "clfs.RandomForest(xTrain, xTest, yTrain, yTest)\n",
    "clfs.SVM(xTrain, xTest, yTrain, yTest)\n",
    "clfs.BoostedDecisionTree(xTrain, xTest, yTrain, yTest)\n",
    "clfs.NeuralNets(xTrain, xTest, yTrain, yTest)"
   ]
  },
  {
   "cell_type": "code",
   "execution_count": null,
   "metadata": {
    "collapsed": true
   },
   "outputs": [],
   "source": []
  }
 ],
 "metadata": {
  "kernelspec": {
   "display_name": "Python 3",
   "language": "python",
   "name": "python3"
  },
  "language_info": {
   "codemirror_mode": {
    "name": "ipython",
    "version": 3
   },
   "file_extension": ".py",
   "mimetype": "text/x-python",
   "name": "python",
   "nbconvert_exporter": "python",
   "pygments_lexer": "ipython3",
   "version": "3.4.1"
  }
 },
 "nbformat": 4,
 "nbformat_minor": 0
}
