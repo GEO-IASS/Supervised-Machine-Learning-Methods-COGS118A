{
 "cells": [
  {
   "cell_type": "code",
   "execution_count": null,
   "metadata": {
    "collapsed": true
   },
   "outputs": [],
   "source": [
    "# Copyright Daniel Reznikov, Yunfan Yang all rights reserved\n",
    "# Final Project COGS 118a, Winter 2016\n",
    "# Notebook Implements SVM Classifier on breast_cancer dataset"
   ]
  },
  {
   "cell_type": "code",
   "execution_count": 1,
   "metadata": {
    "collapsed": false
   },
   "outputs": [
    {
     "name": "stderr",
     "output_type": "stream",
     "text": [
      "/usr/local/lib/python3.4/dist-packages/sklearn/cross_validation.py:43: DeprecationWarning: This module has been deprecated in favor of the model_selection module into which all the refactored classes and functions are moved. Also note that the interface of the new CV iterators are different from that of this module. This module will be removed in 0.20.\n",
      "  \"This module will be removed in 0.20.\", DeprecationWarning)\n",
      "/usr/local/lib/python3.4/dist-packages/sklearn/grid_search.py:43: DeprecationWarning: This module has been deprecated in favor of the model_selection module into which all the refactored classes and functions are moved. This module will be removed in 0.20.\n",
      "  DeprecationWarning)\n"
     ]
    }
   ],
   "source": [
    "import warnings\n",
    "warnings.filterwarnings(\"ignore\")\n",
    "import csv\n",
    "import numpy as np\n",
    "from numpy import genfromtxt\n",
    "import math\n",
    "import random\n",
    "import scipy.io as sio\n",
    "from sklearn.grid_search import GridSearchCV\n",
    "from sklearn import svm as svm\n",
    "import sklearn.cross_validation as cv\n",
    "\n",
    "X = [list(map(int, x.split(',')[:-1])) for x in open('breast_cancer.csv').read().splitlines() if '?' not in x]\n",
    "Y = [1 if x.split(',')[-1] == '2' else -1 for x in open('breast_cancer.csv').read().splitlines() if '?' not in x]\n",
    "xTrain, xTest, yTrain, yTest = cv.train_test_split(X, Y, train_size = 0.2)\n"
   ]
  },
  {
   "cell_type": "code",
   "execution_count": 2,
   "metadata": {
    "collapsed": false
   },
   "outputs": [
    {
     "name": "stdout",
     "output_type": "stream",
     "text": [
      "---KNN report---\n",
      "best number of neighbors:3\n",
      "training time: 0.21180057525634766s\n",
      "Model accuracy: 0.606946983547\n",
      "prediction time: 0.0015442371368408203s\n",
      "f1 score accuracy: 0.715984147952\n",
      "             precision    recall  f1-score   support\n",
      "\n",
      "         -1     0.4178    0.3194    0.3620       191\n",
      "          1     0.6758    0.7612    0.7160       356\n",
      "\n",
      "avg / total     0.5857    0.6069    0.5924       547\n",
      "\n",
      "area under roc score: 0.540303841402\n",
      "\n",
      "\n",
      "\n",
      "---Random Forest report---\n",
      "best number of max_features:1\n",
      "training time: 0.48125314712524414s\n",
      "Model accuracy: 0.970749542962\n",
      "prediction time: 0.007502079010009766s\n",
      "f1 score accuracy: 0.977528089888\n",
      "             precision    recall  f1-score   support\n",
      "\n",
      "         -1     0.9581    0.9581    0.9581       191\n",
      "          1     0.9775    0.9775    0.9775       356\n",
      "\n",
      "avg / total     0.9707    0.9707    0.9707       547\n",
      "\n",
      "area under roc score: 0.967821636567\n",
      "\n",
      "\n",
      "\n",
      "---Boosted Decision Tree report---\n",
      "best number of n_estimators:2\n",
      "training time: 2.912332773208618s\n",
      "Model accuracy: 0.939670932358\n",
      "prediction time: 0.000885009765625s\n",
      "f1 score accuracy: 0.952654232425\n",
      "             precision    recall  f1-score   support\n",
      "\n",
      "         -1     0.8835    0.9529    0.9169       191\n",
      "          1     0.9736    0.9326    0.9527       356\n",
      "\n",
      "avg / total     0.9421    0.9397    0.9402       547\n",
      "\n",
      "area under roc score: 0.942731925407\n",
      "\n",
      "\n",
      "\n",
      "---Neural Nets report---\n",
      "best learning_rate_init 0.010\n",
      "training time: 0.22573208808898926s\n",
      "Model accuracy: 0.650822669104\n",
      "prediction time: 0.00557398796081543s\n",
      "f1 score accuracy: 0.788482834994\n",
      "             precision    recall  f1-score   support\n",
      "\n",
      "         -1     0.0000    0.0000    0.0000       191\n",
      "          1     0.6508    1.0000    0.7885       356\n",
      "\n",
      "avg / total     0.4236    0.6508    0.5132       547\n",
      "\n",
      "area under roc score: 0.5\n",
      "\n",
      "\n",
      "\n",
      "---LinearSVM report---\n",
      "best number of C:0.1\n",
      "training time: 0.21485376358032227s\n",
      "Model accuracy: 0.349177330896\n",
      "prediction time: 0.00044846534729003906s\n",
      "f1 score accuracy: 0.0\n",
      "             precision    recall  f1-score   support\n",
      "\n",
      "         -1     0.3492    1.0000    0.5176       191\n",
      "          1     0.0000    0.0000    0.0000       356\n",
      "\n",
      "avg / total     0.1219    0.3492    0.1807       547\n",
      "\n",
      "area under roc score: 0.5\n",
      "\n",
      "\n",
      "\n",
      "---XGBoost report---\n",
      "best number of n_estimators:32\n",
      "training time: 1.2418038845062256s\n",
      "Model accuracy: 0.965265082267\n",
      "prediction time: 0.0003037452697753906s\n",
      "f1 score accuracy: 0.973352033661\n",
      "             precision    recall  f1-score   support\n",
      "\n",
      "         -1     0.9526    0.9476    0.9501       191\n",
      "          1     0.9720    0.9747    0.9734       356\n",
      "\n",
      "avg / total     0.9652    0.9653    0.9652       547\n",
      "\n",
      "area under roc score: 0.961181540091\n",
      "\n",
      "\n",
      "\n"
     ]
    }
   ],
   "source": [
    "import Classifiers as clfs\n",
    "clfs.KNN(xTrain, xTest, yTrain, yTest)\n",
    "clfs.RandomForest(xTrain, xTest, yTrain, yTest)\n",
    "clfs.BoostedDecisionTree(xTrain, xTest, yTrain, yTest)\n",
    "clfs.NeuralNets(xTrain, xTest, yTrain, yTest)\n",
    "#clfs.SVM(xTrain, xTest, yTrain, yTest)\n",
    "clfs.linearSVC(xTrain, xTest, yTrain, yTest)\n",
    "clfs.XGBoost(xTrain, xTest, yTrain, yTest)"
   ]
  },
  {
   "cell_type": "code",
   "execution_count": null,
   "metadata": {
    "collapsed": true
   },
   "outputs": [],
   "source": []
  }
 ],
 "metadata": {
  "kernelspec": {
   "display_name": "Python 3",
   "language": "python",
   "name": "python3"
  },
  "language_info": {
   "codemirror_mode": {
    "name": "ipython",
    "version": 3
   },
   "file_extension": ".py",
   "mimetype": "text/x-python",
   "name": "python",
   "nbconvert_exporter": "python",
   "pygments_lexer": "ipython3",
   "version": "3.4.3"
  }
 },
 "nbformat": 4,
 "nbformat_minor": 0
}
