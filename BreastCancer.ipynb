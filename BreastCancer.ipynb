{
 "cells": [
  {
   "cell_type": "code",
   "execution_count": null,
   "metadata": {
    "collapsed": true
   },
   "outputs": [],
   "source": [
    "# Copyright Daniel Reznikov, Yunfan Yang all rights reserved\n",
    "# Final Project COGS 118a, Winter 2016\n",
    "# Notebook Implements SVM Classifier on breast_cancer dataset"
   ]
  },
  {
   "cell_type": "code",
   "execution_count": null,
   "metadata": {
    "collapsed": false
   },
   "outputs": [],
   "source": [
    "import warnings\n",
    "warnings.filterwarnings(\"ignore\")\n",
    "import csv\n",
    "import numpy as np\n",
    "from numpy import genfromtxt\n",
    "import math\n",
    "import random\n",
    "import scipy.io as sio\n",
    "from sklearn.grid_search import GridSearchCV\n",
    "from sklearn import svm as svm\n",
    "import sklearn.cross_validation as cv\n",
    "\n",
    "# Optimization trick\n",
    "CPU_CORES = 4 \n",
    "\n",
    "X = [list(map(int, x.split(',')[:-1])) for x in open('breast_cancer.csv').read().splitlines() if '?' not in x]\n",
    "Y = [1 if x.split(',')[-1] == '2' else -1 for x in open('breast_cancer.csv').read().splitlines() if '?' not in x]\n",
    "xTrain, xTest, yTrain, yTest = cv.train_test_split(X, Y, train_size = 0.2)\n"
   ]
  },
  {
   "cell_type": "code",
   "execution_count": null,
   "metadata": {
    "collapsed": false
   },
   "outputs": [],
   "source": [
    "import Classifiers as clfs\n",
    "clfs.KNN(xTrain, xTest, yTrain, yTest)\n",
    "clfs.RandomForest(xTrain, xTest, yTrain, yTest)\n",
    "clfs.SVM(xTrain, xTest, yTrain, yTest)\n",
    "clfs.BoostedDecisionTree(xTrain, xTest, yTrain, yTest)\n",
    "clfs.NeuralNets(xTrain, xTest, yTrain, yTest)"
   ]
  },
  {
   "cell_type": "code",
   "execution_count": null,
   "metadata": {
    "collapsed": true
   },
   "outputs": [],
   "source": []
  }
 ],
 "metadata": {
  "kernelspec": {
   "display_name": "Python 3",
   "language": "python",
   "name": "python3"
  },
  "language_info": {
   "codemirror_mode": {
    "name": "ipython",
    "version": 3
   },
   "file_extension": ".py",
   "mimetype": "text/x-python",
   "name": "python",
   "nbconvert_exporter": "python",
   "pygments_lexer": "ipython3",
   "version": "3.4.1"
  }
 },
 "nbformat": 4,
 "nbformat_minor": 0
}
