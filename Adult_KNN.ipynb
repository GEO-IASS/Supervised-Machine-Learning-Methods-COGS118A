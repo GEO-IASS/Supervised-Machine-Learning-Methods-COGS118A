{
 "cells": [
  {
   "cell_type": "code",
   "execution_count": 98,
   "metadata": {
    "collapsed": false
   },
   "outputs": [
    {
     "name": "stdout",
     "output_type": "stream",
     "text": [
      "30162\n",
      "30162\n"
     ]
    }
   ],
   "source": [
    "import sklearn.cross_validation as cv\n",
    "from sklearn.neighbors import KNeighborsClassifier\n",
    "from sklearn.grid_search import GridSearchCV\n",
    "from collections import Counter\n",
    "from sklearn import preprocessing\n",
    "import numpy as np\n",
    "CPU_CORES = 4\n",
    "\n",
    "# Import Data\n",
    "\n",
    "# cap input data size\n",
    "SIZE_DATA = 30000\n",
    "\n",
    "leX1 = preprocessing.LabelEncoder()\n",
    "leX3 = preprocessing.LabelEncoder()\n",
    "leX5 = preprocessing.LabelEncoder()\n",
    "leY = preprocessing.LabelEncoder()\n",
    "encX1 = preprocessing.OneHotEncoder(dtype = int)\n",
    "encX3 = preprocessing.OneHotEncoder(dtype = int)\n",
    "encX5 = preprocessing.OneHotEncoder(dtype = int)\n",
    "\n",
    "leX1.fit([x.strip() for x in \"Private, Self-emp-not-inc, Self-emp-inc, Federal-gov, Local-gov, State-gov, Without-pay, Never-worked\".split(',')])\n",
    "leX3.fit([x.strip() for x in \"Bachelors, Some-college, 11th, HS-grad, Prof-school, Assoc-acdm, Assoc-voc, 9th, 7th-8th, 12th, Masters, 1st-4th, 10th, Doctorate, 5th-6th, Preschool\".split(',')])\n",
    "leX5.fit([x.strip() for x in \"Married-civ-spouse, Divorced, Never-married, Separated, Widowed, Married-spouse-absent, Married-AF-spouse\".split(',')])\n",
    "\n",
    "leY.fit([\"<=50K\", \">50K\"])\n",
    "\n",
    "# X: features\n",
    "# X0: age\n",
    "# X1: workclass\n",
    "# X2: fnlwgt\n",
    "# X3: education\n",
    "# X4: education-num\n",
    "# X5: marital-status\n",
    "data = [x.split(',') for x in open('adult.data').read().splitlines() if '?' not in x and x != '']\n",
    "X0 = [[int(x[0])] for x in data]\n",
    "\n",
    "# step 1. encode category labels\n",
    "# step 2. one hot encoding category labels\n",
    "X1 = leX1.transform([x[1].strip() for x in data])\n",
    "X1 = encX1.fit_transform([[x] for x in X1]).toarray()\n",
    "\n",
    "X2 = [[int(x[2])] for x in data]\n",
    "\n",
    "X3 = leX3.transform([x[3].strip() for x in data])\n",
    "X3 = encX3.fit_transform([[x] for x in X3]).toarray()\n",
    "\n",
    "X4 = [[int(x[4])] for x in data]\n",
    "\n",
    "X5 = leX5.transform([x[5].strip() for x in data])\n",
    "X5 = encX5.fit_transform([[x] for x in X5]).toarray()\n",
    "\n",
    "# concatenate categories\n",
    "X = np.concatenate((X1, X2, X3, X4, X5), axis=1)\n",
    "# Y: labels\n",
    "Y = leY.transform([x[-1].strip() for x in data])"
   ]
  },
  {
   "cell_type": "code",
   "execution_count": 109,
   "metadata": {
    "collapsed": false
   },
   "outputs": [
    {
     "name": "stdout",
     "output_type": "stream",
     "text": [
      "[0 0 0 ..., 0 1 1]\n",
      "5000 25162 5000 25162\n"
     ]
    }
   ],
   "source": [
    "xTrain, xTest, yTrain, yTest = cv.train_test_split(X, Y, train_size = 5000/float(len(X)))\n",
    "print (yTest)\n",
    "print (len(xTrain), len(xTest), len(yTrain), len(yTest))"
   ]
  },
  {
   "cell_type": "code",
   "execution_count": 112,
   "metadata": {
    "collapsed": false
   },
   "outputs": [
    {
     "name": "stdout",
     "output_type": "stream",
     "text": [
      "best number of neighbors:24\n"
     ]
    }
   ],
   "source": [
    "clf = KNeighborsClassifier()\n",
    "param_grid = {'n_neighbors' : np.arange(1,30) }\n",
    "CV = GridSearchCV(estimator=clf, param_grid=param_grid, cv=5, n_jobs=CPU_CORES)\n",
    "CV.fit(xTrain, yTrain)\n",
    "print(\"best number of neighbors:\" + str(CV.best_params_['n_neighbors']))"
   ]
  },
  {
   "cell_type": "code",
   "execution_count": 114,
   "metadata": {
    "collapsed": false
   },
   "outputs": [
    {
     "name": "stdout",
     "output_type": "stream",
     "text": [
      "Model accuracy: 0.750735235673\n"
     ]
    }
   ],
   "source": [
    "print (\"Model accuracy: \" + str(CV.score(xTest, yTest)))"
   ]
  },
  {
   "cell_type": "code",
   "execution_count": null,
   "metadata": {
    "collapsed": true
   },
   "outputs": [],
   "source": []
  }
 ],
 "metadata": {
  "kernelspec": {
   "display_name": "Python 3",
   "language": "python",
   "name": "python3"
  },
  "language_info": {
   "codemirror_mode": {
    "name": "ipython",
    "version": 3
   },
   "file_extension": ".py",
   "mimetype": "text/x-python",
   "name": "python",
   "nbconvert_exporter": "python",
   "pygments_lexer": "ipython3",
   "version": "3.4.1"
  }
 },
 "nbformat": 4,
 "nbformat_minor": 0
}
