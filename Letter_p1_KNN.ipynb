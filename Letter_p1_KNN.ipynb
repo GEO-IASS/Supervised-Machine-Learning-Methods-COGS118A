{
 "cells": [
  {
   "cell_type": "code",
   "execution_count": 23,
   "metadata": {
    "collapsed": false
   },
   "outputs": [],
   "source": [
    "# Copyright Daniel Reznikov, Yunfan Yang all rights reserved\n",
    "# Final Project COGS 118a, Winter 2016\n",
    "# Notebook Implements K-Nearest-Neighbors Classifier on breast_cancer dataset"
   ]
  },
  {
   "cell_type": "code",
   "execution_count": 24,
   "metadata": {
    "collapsed": false
   },
   "outputs": [],
   "source": [
    "import sklearn.cross_validation as cv\n",
    "from sklearn.neighbors import KNeighborsClassifier\n",
    "from sklearn.grid_search import GridSearchCV"
   ]
  },
  {
   "cell_type": "code",
   "execution_count": 25,
   "metadata": {
    "collapsed": true
   },
   "outputs": [],
   "source": [
    "# Optimization trick\n",
    "CPU_CORES = 4 "
   ]
  },
  {
   "cell_type": "code",
   "execution_count": 26,
   "metadata": {
    "collapsed": false
   },
   "outputs": [
    {
     "name": "stdout",
     "output_type": "stream",
     "text": [
      "(5000, 15000, 5000, 15000)\n"
     ]
    }
   ],
   "source": [
    "# Import data\n",
    "# X: features is a vectors of 16 integer attributes extracted from raster scan images of the letters.\n",
    "X = [list(map(int, x.split(',')[1:])) for x in open('letter-recognition.data').read().splitlines()]\n",
    "\n",
    "# Y: the label, we are setting label = 1 when letter = 'O'\n",
    "Y = [1 if x.split(',')[0] == 'O' else -1 for x in open('letter-recognition.data').read().splitlines()]\n",
    "\n",
    "# Split the dataset. Training will be on 5000/20,000 as in the Caruana 06' Paper\n",
    "xTrain, xTest, yTrain, yTest = cv.train_test_split(X, Y, train_size = 5000/float(len(X)))\n",
    "print (len(xTrain), len(xTest), len(yTrain), len(yTest))"
   ]
  },
  {
   "cell_type": "code",
   "execution_count": 30,
   "metadata": {
    "collapsed": false
   },
   "outputs": [
    {
     "name": "stdout",
     "output_type": "stream",
     "text": [
      "best number of neighbors:5\n"
     ]
    }
   ],
   "source": [
    "# KNN\n",
    "neigh = KNeighborsClassifier()\n",
    "param_grid = {'n_neighbors' : range(1,30) }\n",
    "CV = GridSearchCV(estimator=neigh, param_grid=param_grid, cv=5, n_jobs=CPU_CORES)\n",
    "CV.fit(xTrain, yTrain)\n",
    "print(\"best number of neighbors:\" + str(CV.best_params_['n_neighbors']))"
   ]
  },
  {
   "cell_type": "code",
   "execution_count": 34,
   "metadata": {
    "collapsed": false
   },
   "outputs": [
    {
     "ename": "SyntaxError",
     "evalue": "unexpected EOF while parsing (<ipython-input-34-649e010ae4fa>, line 1)",
     "output_type": "error",
     "traceback": [
      "\u001b[0;36m  File \u001b[0;32m\"<ipython-input-34-649e010ae4fa>\"\u001b[0;36m, line \u001b[0;32m1\u001b[0m\n\u001b[0;31m    print \"Model accuracy: \" + str(CV.score(xTest, yTest)\u001b[0m\n\u001b[0m                                                         ^\u001b[0m\n\u001b[0;31mSyntaxError\u001b[0m\u001b[0;31m:\u001b[0m unexpected EOF while parsing\n"
     ]
    }
   ],
   "source": [
    "print \"Model accuracy: \" + str(CV.score(xTest, yTest)"
   ]
  },
  {
   "cell_type": "code",
   "execution_count": null,
   "metadata": {
    "collapsed": true
   },
   "outputs": [],
   "source": []
  }
 ],
 "metadata": {
  "kernelspec": {
   "display_name": "Python 3",
   "language": "python",
   "name": "python3"
  },
  "language_info": {
   "codemirror_mode": {
    "name": "ipython",
    "version": 3
   },
   "file_extension": ".py",
   "mimetype": "text/x-python",
   "name": "python",
   "nbconvert_exporter": "python",
   "pygments_lexer": "ipython3",
   "version": "3.4.1"
  }
 },
 "nbformat": 4,
 "nbformat_minor": 0
}
