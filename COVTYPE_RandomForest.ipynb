{
 "cells": [
  {
   "cell_type": "code",
   "execution_count": 1,
   "metadata": {
    "collapsed": true
   },
   "outputs": [],
   "source": [
    "# Copyright Daniel Reznikov, Yunfan Yang all rights reserved\n",
    "# Final Project COGS 118a, Winter 2016\n",
    "# Notebook Implements Random Forests on COVTYPE dataset"
   ]
  },
  {
   "cell_type": "code",
   "execution_count": 2,
   "metadata": {
    "collapsed": false
   },
   "outputs": [],
   "source": [
    "import numpy as np\n",
    "import sklearn.cross_validation as cv\n",
    "from sklearn.ensemble import RandomForestClassifier\n",
    "from sklearn.grid_search import GridSearchCV\n",
    "from collections import Counter"
   ]
  },
  {
   "cell_type": "code",
   "execution_count": 3,
   "metadata": {
    "collapsed": true
   },
   "outputs": [],
   "source": [
    "# Optimization trick\n",
    "CPU_CORES = 4 "
   ]
  },
  {
   "cell_type": "code",
   "execution_count": 4,
   "metadata": {
    "collapsed": true
   },
   "outputs": [],
   "source": [
    "# Import Data\n",
    "\n",
    "# cap input data size\n",
    "SIZE_DATA = 30000\n",
    "\n",
    "# X: 54 features\n",
    "X = [x.split(',')[:-1] for x in open('covtype.data').read().splitlines()[:SIZE_DATA]]\n",
    "\n",
    "# Y: labels\n",
    "_Y = [x.split(',')[-1] for x in open('covtype.data').read().splitlines()[:SIZE_DATA]]"
   ]
  },
  {
   "cell_type": "code",
   "execution_count": 5,
   "metadata": {
    "collapsed": false
   },
   "outputs": [
    {
     "name": "stdout",
     "output_type": "stream",
     "text": [
      "(5000, 25000, 5000, 25000)\n"
     ]
    }
   ],
   "source": [
    "# Data Cleansing\n",
    "def largestClass(labels):\n",
    "    c = Counter(labels)\n",
    "    return c.most_common()[0][0]\n",
    "larg = largestClass(_Y)\n",
    "\n",
    "# treat the largest class as positive, the rest as negative\n",
    "Y = [1 if x == larg else -1 for x in _Y]\n",
    "\n",
    "# Split the dataset. Training will be on 5000/30,000 as in the Caruana 06' Paper\n",
    "xTrain, xTest, yTrain, yTest = cv.train_test_split(X, Y, train_size = 5000/float(len(X)))\n",
    "print (len(xTrain), len(xTest), len(yTrain), len(yTest))"
   ]
  },
  {
   "cell_type": "code",
   "execution_count": 8,
   "metadata": {
    "collapsed": false
   },
   "outputs": [
    {
     "name": "stdout",
     "output_type": "stream",
     "text": [
      "best max_features 16\n",
      "Model accuaracy: 0.91652\n"
     ]
    }
   ],
   "source": [
    "# Train a RandomForestClassifier \n",
    "# Use GridSearchCV for 5-fold cross-validation\n",
    "# Optimizing for the max_features which Caruana considers across [1,2,4,6,8,12,16]\n",
    "\n",
    "param_grid = { 'max_features': [1,2,4,6,8,12,16,20] }\n",
    "clf = RandomForestClassifier(n_estimators = 100)\n",
    "CV = GridSearchCV(estimator=clf, param_grid=param_grid, cv=5, n_jobs=CPU_CORES)\n",
    "CV.fit(xTrain, yTrain)\n",
    "print(\"best max_features \" + str(CV.best_params_['max_features']))\n",
    "\n",
    "# Compute the model accuracy\n",
    "print 'Model accuaracy: ' + str(CV.score(xTest, yTest))"
   ]
  },
  {
   "cell_type": "code",
   "execution_count": null,
   "metadata": {
    "collapsed": true
   },
   "outputs": [],
   "source": []
  }
 ],
 "metadata": {
  "kernelspec": {
   "display_name": "Python 2",
   "language": "python",
   "name": "python2"
  },
  "language_info": {
   "codemirror_mode": {
    "name": "ipython",
    "version": 2
   },
   "file_extension": ".py",
   "mimetype": "text/x-python",
   "name": "python",
   "nbconvert_exporter": "python",
   "pygments_lexer": "ipython2",
   "version": "2.7.11"
  }
 },
 "nbformat": 4,
 "nbformat_minor": 0
}
