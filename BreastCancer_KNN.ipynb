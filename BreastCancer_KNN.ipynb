{
 "cells": [
  {
   "cell_type": "code",
   "execution_count": 1,
   "metadata": {
    "collapsed": false
   },
   "outputs": [],
   "source": [
    "# Copyright Daniel Reznikov, Yunfan Yang all rights reserved\n",
    "# Final Project COGS 118a, Winter 2016\n",
    "# Notebook Implements K-Nearest-Neighbors Classifier on breast_cancer dataset"
   ]
  },
  {
   "cell_type": "code",
   "execution_count": 2,
   "metadata": {
    "collapsed": false
   },
   "outputs": [],
   "source": [
    "import csv\n",
    "import numpy as np\n",
    "from numpy import genfromtxt\n",
    "import theano\n",
    "import lasagne\n",
    "import nolearn\n",
    "from nolearn.lasagne import NeuralNet\n",
    "import math\n",
    "import random\n",
    "import scipy.io as sio\n",
    "from sklearn.grid_search import GridSearchCV"
   ]
  },
  {
   "cell_type": "code",
   "execution_count": 3,
   "metadata": {
    "collapsed": false
   },
   "outputs": [
    {
     "name": "stdout",
     "output_type": "stream",
     "text": [
      "559\n",
      "139\n",
      "139\n",
      "559\n",
      "559\n"
     ]
    }
   ],
   "source": [
    "# Import data\n",
    "data = genfromtxt('breast_cancer.csv', delimiter=',')\n",
    "data = data.astype('int32')\n",
    "\n",
    "# Randomly select 80% of the dataset as your training set and the rest 20% as your testing set.\n",
    "xTrain = []\n",
    "xTest = []\n",
    "yTrain = []\n",
    "yTest = []\n",
    "\n",
    "sampleSize = int(.8*len(data))\n",
    "xTrain = data[0:sampleSize, 0:10]\n",
    "yTrain = data[0:sampleSize, -1]\n",
    "xTest = data[sampleSize+1:len(data), 0:10]\n",
    "yTest = data[sampleSize+1:len(data), -1]\n",
    "\n",
    "for i in range(len(yTest)):\n",
    "    if yTest[i] == 2.0:\n",
    "        yTest[i] = -1\n",
    "    elif yTest[i] == 4.0:\n",
    "        yTest[i] = 1\n",
    "    else:\n",
    "        print 'WTF'\n",
    "        \n",
    "for i in range(len(yTrain)):\n",
    "    if yTrain[i] == 2.0:\n",
    "        yTrain[i] = -1\n",
    "    elif yTrain[i] == 4.0:\n",
    "        yTrain[i] = 1\n",
    "    else:\n",
    "        print 'WTF'\n",
    "    \n",
    "xTest = tuple(map(tuple, xTest))\n",
    "yTest = tuple(yTest)\n",
    "xTrain = tuple(map(tuple, xTrain))\n",
    "yTrain = tuple(yTrain)\n",
    "\n",
    "print sampleSize\n",
    "\n",
    "print len(xTest)\n",
    "print len(yTest)\n",
    "print len(xTrain)\n",
    "print len(yTrain)"
   ]
  },
  {
   "cell_type": "code",
   "execution_count": 4,
   "metadata": {
    "collapsed": true
   },
   "outputs": [],
   "source": [
    "#Lets do some KNN\n",
    "\n",
    "# Helper method, returning the Euclidean distance between two points\n",
    "# L2 NORM\n",
    "def dist(testPoint, trainPoint):\n",
    "    sum = 0\n",
    "    for index in range(len(testPoint)):\n",
    "        sum += math.pow( trainingPoint[index] - testPoint[index], 2 )\n",
    "    return math.sqrt(sum)"
   ]
  },
  {
   "cell_type": "code",
   "execution_count": 5,
   "metadata": {
    "collapsed": false
   },
   "outputs": [
    {
     "name": "stdout",
     "output_type": "stream",
     "text": [
      "139\n"
     ]
    }
   ],
   "source": [
    "# neighborDistance is a matrix. Rows test points, colums are distance to each training point\n",
    "neighborDistance = [[0 for x in range(len(xTrain))] for x in range(len(xTest))]\n",
    "\n",
    "# Compute Euclidean Distance from each test point, to each training point\n",
    "# neighbor distance is matrix of testing points by training points\n",
    "# where i,j corresponds to distance between ith test pt and jth training pt \n",
    "testCntr = 0\n",
    "for testPoint in xTest:\n",
    "    trainingCntr = 0\n",
    "    for trainingPoint in xTrain:\n",
    "        neighborDistance[testCntr][trainingCntr] = (dist(testPoint, trainingPoint), yTrain[trainingCntr])\n",
    "        trainingCntr += 1\n",
    "    neighborDistance[testCntr].sort(key=lambda distance: distance[0])\n",
    "    testCntr += 1\n",
    "    \n",
    "for nD in neighborDistance:\n",
    "    del nD[0]\n",
    " \n",
    "print len(neighborDistance)\n"
   ]
  },
  {
   "cell_type": "code",
   "execution_count": 6,
   "metadata": {
    "collapsed": false
   },
   "outputs": [
    {
     "name": "stdout",
     "output_type": "stream",
     "text": [
      "For K: 0 score is: 0.0\n",
      "For K: 1 score is: 0.618705035971\n",
      "For K: 2 score is: 0.510791366906\n",
      "For K: 3 score is: 0.669064748201\n",
      "For K: 4 score is: 0.58273381295\n",
      "For K: 5 score is: 0.690647482014\n",
      "For K: 6 score is: 0.618705035971\n",
      "For K: 7 score is: 0.697841726619\n",
      "For K: 8 score is: 0.654676258993\n",
      "For K: 9 score is: 0.726618705036\n",
      "For K: 10 score is: 0.697841726619\n",
      "For K: 11 score is: 0.755395683453\n",
      "For K: 12 score is: 0.726618705036\n",
      "For K: 13 score is: 0.726618705036\n",
      "For K: 14 score is: 0.712230215827\n",
      "For K: 15 score is: 0.741007194245\n",
      "For K: 16 score is: 0.726618705036\n",
      "For K: 17 score is: 0.755395683453\n",
      "For K: 18 score is: 0.705035971223\n",
      "For K: 19 score is: 0.748201438849\n",
      "For K: 20 score is: 0.726618705036\n",
      "For K: 21 score is: 0.784172661871\n",
      "For K: 22 score is: 0.726618705036\n",
      "For K: 23 score is: 0.748201438849\n",
      "For K: 24 score is: 0.719424460432\n",
      "For K: 25 score is: 0.741007194245\n",
      "For K: 26 score is: 0.73381294964\n",
      "For K: 27 score is: 0.741007194245\n",
      "For K: 28 score is: 0.726618705036\n",
      "For K: 29 score is: 0.741007194245\n",
      "For K: 30 score is: 0.726618705036\n",
      "For K: 31 score is: 0.73381294964\n",
      "For K: 32 score is: 0.712230215827\n",
      "For K: 33 score is: 0.741007194245\n",
      "For K: 34 score is: 0.719424460432\n",
      "For K: 35 score is: 0.73381294964\n",
      "For K: 36 score is: 0.705035971223\n",
      "For K: 37 score is: 0.719424460432\n",
      "For K: 38 score is: 0.690647482014\n",
      "For K: 39 score is: 0.719424460432\n",
      "For K: 40 score is: 0.705035971223\n",
      "For K: 41 score is: 0.73381294964\n",
      "For K: 42 score is: 0.726618705036\n",
      "For K: 43 score is: 0.73381294964\n",
      "For K: 44 score is: 0.726618705036\n",
      "For K: 45 score is: 0.73381294964\n",
      "For K: 46 score is: 0.719424460432\n",
      "For K: 47 score is: 0.726618705036\n",
      "For K: 48 score is: 0.719424460432\n",
      "For K: 49 score is: 0.73381294964\n",
      "best K: 21\n",
      "('Testing Score', '0.784172661871')\n"
     ]
    }
   ],
   "source": [
    "#  Decide Label, Compute Error, Score\n",
    "testScore = [0,0]\n",
    "for k in range(50):\n",
    "    testCntr = 0\n",
    "    testErrorCntr = 0\n",
    "    for testPoint in xTest:\n",
    "        labelSum = 0 \n",
    "        for i in range(0, k):\n",
    "            labelSum += neighborDistance[testCntr][i][1] ##calls the label\n",
    "        label = np.sign(labelSum)\n",
    "        if (label != yTest[testCntr]):\n",
    "            testErrorCntr += 1\n",
    "        testCntr += 1\n",
    "    currTestScore = (1- float(testErrorCntr)/float(testCntr))\n",
    "    if (currTestScore > testScore[0]):\n",
    "        testScore[0] = currTestScore\n",
    "        testScore[1] = int(k)\n",
    "    print 'For K: ' + str(k) + \" score is: \" + str(1- float(testErrorCntr)/float(testCntr))\n",
    "        \n",
    "print (\"best K: \" + str(testScore[1]))\n",
    "print (\"Testing Score\" , str(testScore[0]))"
   ]
  },
  {
   "cell_type": "code",
   "execution_count": null,
   "metadata": {
    "collapsed": true
   },
   "outputs": [],
   "source": []
  },
  {
   "cell_type": "code",
   "execution_count": null,
   "metadata": {
    "collapsed": true
   },
   "outputs": [],
   "source": []
  }
 ],
 "metadata": {
  "kernelspec": {
   "display_name": "Python 2",
   "language": "python",
   "name": "python2"
  },
  "language_info": {
   "codemirror_mode": {
    "name": "ipython",
    "version": 2
   },
   "file_extension": ".py",
   "mimetype": "text/x-python",
   "name": "python",
   "nbconvert_exporter": "python",
   "pygments_lexer": "ipython2",
   "version": "2.7.11"
  }
 },
 "nbformat": 4,
 "nbformat_minor": 0
}
