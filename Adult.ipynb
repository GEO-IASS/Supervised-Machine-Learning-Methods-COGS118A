{
 "cells": [
  {
   "cell_type": "code",
   "execution_count": null,
   "metadata": {
    "collapsed": false
   },
   "outputs": [],
   "source": [
    "import sklearn.cross_validation as cv\n",
    "from collections import Counter\n",
    "from sklearn import preprocessing\n",
    "import numpy as np\n",
    "\n",
    "# Import Data\n",
    "\n",
    "# cap input data size\n",
    "SIZE_DATA = 30000\n",
    "\n",
    "leX1 = preprocessing.LabelEncoder()\n",
    "leX3 = preprocessing.LabelEncoder()\n",
    "leX5 = preprocessing.LabelEncoder()\n",
    "leX6 = preprocessing.LabelEncoder()\n",
    "leX7 = preprocessing.LabelEncoder()\n",
    "leX8 = preprocessing.LabelEncoder()\n",
    "leX9 = preprocessing.LabelEncoder()\n",
    "leX13 = preprocessing.LabelEncoder()\n",
    "leY = preprocessing.LabelEncoder()\n",
    "encX1 = preprocessing.OneHotEncoder(dtype = int)\n",
    "encX3 = preprocessing.OneHotEncoder(dtype = int)\n",
    "encX5 = preprocessing.OneHotEncoder(dtype = int)\n",
    "encX6 = preprocessing.OneHotEncoder(dtype = int)\n",
    "encX7 = preprocessing.OneHotEncoder(dtype = int)\n",
    "encX8 = preprocessing.OneHotEncoder(dtype = int)\n",
    "encX9 = preprocessing.OneHotEncoder(dtype = int)\n",
    "encX13 = preprocessing.OneHotEncoder(dtype = int)\n",
    "leX1.fit([x.strip() for x in \"Private, Self-emp-not-inc, Self-emp-inc, Federal-gov, Local-gov, State-gov, Without-pay, Never-worked\".split(',')])\n",
    "leX3.fit([x.strip() for x in \"Bachelors, Some-college, 11th, HS-grad, Prof-school, Assoc-acdm, Assoc-voc, 9th, 7th-8th, 12th, Masters, 1st-4th, 10th, Doctorate, 5th-6th, Preschool\".split(',')])\n",
    "leX5.fit([x.strip() for x in \"Married-civ-spouse, Divorced, Never-married, Separated, Widowed, Married-spouse-absent, Married-AF-spouse\".split(',')])\n",
    "leX6.fit([x.strip() for x in \"Tech-support, Craft-repair, Other-service, Sales, Exec-managerial, Prof-specialty, Handlers-cleaners, Machine-op-inspct, Adm-clerical, Farming-fishing, Transport-moving, Priv-house-serv, Protective-serv, Armed-Forces\".split(',')])\n",
    "leX7.fit([x.strip() for x in \"Wife, Own-child, Husband, Not-in-family, Other-relative, Unmarried\".split(',')])\n",
    "leX8.fit([x.strip() for x in \"White, Asian-Pac-Islander, Amer-Indian-Eskimo, Other, Black\".split(',')])\n",
    "leX9.fit([x.strip() for x in \"Female, Male\".split(',')])\n",
    "leX13.fit([x.strip() for x in \"United-States, Cambodia, England, Puerto-Rico, Canada, Germany, Outlying-US(Guam-USVI-etc), India, Japan, Greece, South, China, Cuba, Iran, Honduras, Philippines, Italy, Poland, Jamaica, Vietnam, Mexico, Portugal, Ireland, France, Dominican-Republic, Laos, Ecuador, Taiwan, Haiti, Columbia, Hungary, Guatemala, Nicaragua, Scotland, Thailand, Yugoslavia, El-Salvador, Trinadad&Tobago, Peru, Hong, Holand-Netherlands\".split(',')])\n",
    "leY.fit([\"<=50K\", \">50K\"])\n",
    "\n",
    "# X: features\n",
    "# X0: age (continuous)\n",
    "# X1: workclass\n",
    "# X2: fnlwgt (continuous)\n",
    "# X3: education\n",
    "# X4: education-num (continuous)\n",
    "# X5: marital-status\n",
    "# X6: occupation\n",
    "# X7: relationship\n",
    "# X8: race\n",
    "# X9: sex\n",
    "# X10: capital-gain (continuous)\n",
    "# X11: capital-loss (continuous)\n",
    "# X12: hours-per-week (continuous)\n",
    "# X13: native-country\n",
    "data = [x.split(',') for x in open('adult.data').read().splitlines() if '?' not in x and x != '']\n",
    "X0 = [[int(x[0])] for x in data]\n",
    "\n",
    "# step 1. encode category labels\n",
    "# step 2. one hot encoding category labels\n",
    "X1 = leX1.transform([x[1].strip() for x in data])\n",
    "X1 = encX1.fit_transform([[x] for x in X1]).toarray()\n",
    "\n",
    "X2 = [[int(x[2])] for x in data]\n",
    "\n",
    "X3 = leX3.transform([x[3].strip() for x in data])\n",
    "X3 = encX3.fit_transform([[x] for x in X3]).toarray()\n",
    "\n",
    "X4 = [[int(x[4])] for x in data]\n",
    "\n",
    "X5 = leX5.transform([x[5].strip() for x in data])\n",
    "X5 = encX5.fit_transform([[x] for x in X5]).toarray()\n",
    "\n",
    "X6 = leX6.transform([x[6].strip() for x in data])\n",
    "X6 = encX6.fit_transform([[x] for x in X6]).toarray()\n",
    "\n",
    "X7 = leX7.transform([x[7].strip() for x in data])\n",
    "X7 = encX7.fit_transform([[x] for x in X7]).toarray()\n",
    "\n",
    "X8 = leX8.transform([x[8].strip() for x in data])\n",
    "X8 = encX8.fit_transform([[x] for x in X8]).toarray()\n",
    "\n",
    "X9 = leX9.transform([x[9].strip() for x in data])\n",
    "X9 = encX9.fit_transform([[x] for x in X9]).toarray()\n",
    "\n",
    "X10 = [[int(x[10])] for x in data]\n",
    "X11 = [[int(x[11])] for x in data]\n",
    "X12 = [[int(x[12])] for x in data]\n",
    "\n",
    "X13 = leX13.transform([x[13].strip() for x in data])\n",
    "X13 = encX13.fit_transform([[x] for x in X13]).toarray()\n",
    "# concatenate categories\n",
    "X = np.concatenate((X1, X2, X3, X4, X5, X6, X7, X8, X9, X10, X11, X12, X13), axis=1)\n",
    "# Y: labels\n",
    "Y = leY.transform([x[-1].strip() for x in data])\n",
    "\n",
    "xTrain, xTest, yTrain, yTest = cv.train_test_split(X, Y, train_size = 5000/float(len(X)))"
   ]
  },
  {
   "cell_type": "code",
   "execution_count": null,
   "metadata": {
    "collapsed": false
   },
   "outputs": [],
   "source": [
    "import Classifiers as clfs\n",
    "clfs.KNN(xTrain, xTest, yTrain, yTest)\n",
    "clfs.RandomForest(xTrain, xTest, yTrain, yTest)\n",
    "clfs.SVM(xTrain, xTest, yTrain, yTest)"
   ]
  },
  {
   "cell_type": "code",
   "execution_count": null,
   "metadata": {
    "collapsed": false
   },
   "outputs": [],
   "source": [
    "clfs.BoostedDecisionTree(xTrain, xTest, yTrain, yTest)"
   ]
  },
  {
   "cell_type": "code",
   "execution_count": null,
   "metadata": {
    "collapsed": false
   },
   "outputs": [],
   "source": [
    "clfs.NeuralNets(xTrain, xTest, yTrain, yTest)"
   ]
  },
  {
   "cell_type": "code",
   "execution_count": null,
   "metadata": {
    "collapsed": true
   },
   "outputs": [],
   "source": []
  }
 ],
 "metadata": {
  "kernelspec": {
   "display_name": "Python 3",
   "language": "python",
   "name": "python3"
  },
  "language_info": {
   "codemirror_mode": {
    "name": "ipython",
    "version": 3
   },
   "file_extension": ".py",
   "mimetype": "text/x-python",
   "name": "python",
   "nbconvert_exporter": "python",
   "pygments_lexer": "ipython3",
   "version": "3.4.1"
  }
 },
 "nbformat": 4,
 "nbformat_minor": 0
}
