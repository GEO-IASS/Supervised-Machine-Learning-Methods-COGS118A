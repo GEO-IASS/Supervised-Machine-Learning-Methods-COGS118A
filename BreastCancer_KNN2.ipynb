{
 "cells": [
  {
   "cell_type": "code",
   "execution_count": 1,
   "metadata": {
    "collapsed": true
   },
   "outputs": [],
   "source": [
    "# Copyright Daniel Reznikov, Yunfan Yang all rights reserved\n",
    "# Final Project COGS 118a, Winter 2016\n",
    "# Notebook Implements SVM Classifier on breast_cancer dataset"
   ]
  },
  {
   "cell_type": "code",
   "execution_count": 2,
   "metadata": {
    "collapsed": false
   },
   "outputs": [
    {
     "name": "stderr",
     "output_type": "stream",
     "text": [
      "/Library/Frameworks/Python.framework/Versions/3.4/lib/python3.4/site-packages/sklearn/cross_validation.py:43: DeprecationWarning: This module has been deprecated in favor of the model_selection module into which all the refactored classes and functions are moved. Also note that the interface of the new CV iterators are different from that of this module. This module will be removed in 0.20.\n",
      "  \"This module will be removed in 0.20.\", DeprecationWarning)\n",
      "/Library/Frameworks/Python.framework/Versions/3.4/lib/python3.4/site-packages/sklearn/grid_search.py:43: DeprecationWarning: This module has been deprecated in favor of the model_selection module into which all the refactored classes and functions are moved. This module will be removed in 0.20.\n",
      "  DeprecationWarning)\n"
     ]
    }
   ],
   "source": [
    "import csv\n",
    "import numpy as np\n",
    "from numpy import genfromtxt\n",
    "import math\n",
    "import random\n",
    "import scipy.io as sio\n",
    "from sklearn.grid_search import GridSearchCV\n",
    "from sklearn import svm as svm\n",
    "import sklearn.cross_validation as cv\n",
    "from sklearn.neighbors import KNeighborsClassifier"
   ]
  },
  {
   "cell_type": "code",
   "execution_count": 3,
   "metadata": {
    "collapsed": true
   },
   "outputs": [],
   "source": [
    "# Optimization trick\n",
    "CPU_CORES = 4 "
   ]
  },
  {
   "cell_type": "code",
   "execution_count": 4,
   "metadata": {
    "collapsed": false
   },
   "outputs": [],
   "source": [
    "X = [list(map(int, x.split(',')[:-1])) for x in open('breast_cancer.csv').read().splitlines() if '?' not in x]\n",
    "Y = [1 if x.split(',')[-1] == '2' else -1 for x in open('breast_cancer.csv').read().splitlines() if '?' not in x]\n",
    "xTrain, xTest, yTrain, yTest = cv.train_test_split(X, Y, train_size = 0.2)"
   ]
  },
  {
   "cell_type": "code",
   "execution_count": 31,
   "metadata": {
    "collapsed": false
   },
   "outputs": [
    {
     "name": "stdout",
     "output_type": "stream",
     "text": [
      "Model accuracy: 0.617915904936\n",
      "best number of neighbors:3\n"
     ]
    }
   ],
   "source": [
    "# Train a SVM Classifier using a Linear Kernel. \n",
    "# Use 10 fold cross-validation to select the parameter C for the cost of outliers.\n",
    "clf = KNeighborsClassifier()\n",
    "param_grid = {'n_neighbors' : np.arange(1,30)}\n",
    "CV = GridSearchCV(estimator=clf, param_grid=param_grid, cv=5, n_jobs=CPU_CORES)\n",
    "CV.fit(xTrain, yTrain)\n",
    "print (\"Model accuracy: \" + str(CV.score(xTest, yTest)))\n",
    "\n",
    "print(\"best number of neighbors:\" + str(CV.best_params_['n_neighbors']))\n"
   ]
  },
  {
   "cell_type": "code",
   "execution_count": null,
   "metadata": {
    "collapsed": true
   },
   "outputs": [],
   "source": []
  },
  {
   "cell_type": "code",
   "execution_count": null,
   "metadata": {
    "collapsed": true
   },
   "outputs": [],
   "source": []
  }
 ],
 "metadata": {
  "kernelspec": {
   "display_name": "Python 3",
   "language": "python",
   "name": "python3"
  },
  "language_info": {
   "codemirror_mode": {
    "name": "ipython",
    "version": 3
   },
   "file_extension": ".py",
   "mimetype": "text/x-python",
   "name": "python",
   "nbconvert_exporter": "python",
   "pygments_lexer": "ipython3",
   "version": "3.4.1"
  }
 },
 "nbformat": 4,
 "nbformat_minor": 0
}
