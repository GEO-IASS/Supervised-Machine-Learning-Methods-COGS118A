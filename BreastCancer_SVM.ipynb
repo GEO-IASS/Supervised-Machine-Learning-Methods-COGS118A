{
 "cells": [
  {
   "cell_type": "code",
   "execution_count": 1,
   "metadata": {
    "collapsed": true
   },
   "outputs": [],
   "source": [
    "# Copyright Daniel Reznikov, Yunfan Yang all rights reserved\n",
    "# Final Project COGS 118a, Winter 2016\n",
    "# Notebook Implements K-Nearest-Neighbors Classifier on breast_cancer dataset"
   ]
  },
  {
   "cell_type": "code",
   "execution_count": 2,
   "metadata": {
    "collapsed": false
   },
   "outputs": [],
   "source": [
    "import csv\n",
    "import numpy as np\n",
    "from numpy import genfromtxt\n",
    "import theano\n",
    "import lasagne\n",
    "import nolearn\n",
    "from nolearn.lasagne import NeuralNet\n",
    "import math\n",
    "import random\n",
    "import scipy.io as sio\n",
    "from sklearn.grid_search import GridSearchCV\n",
    "from sklearn import svm as svm"
   ]
  },
  {
   "cell_type": "code",
   "execution_count": 3,
   "metadata": {
    "collapsed": true
   },
   "outputs": [],
   "source": [
    "# Optimization trick\n",
    "CPU_CORES = 4 "
   ]
  },
  {
   "cell_type": "code",
   "execution_count": 4,
   "metadata": {
    "collapsed": false
   },
   "outputs": [
    {
     "name": "stdout",
     "output_type": "stream",
     "text": [
      "559\n",
      "139\n",
      "139\n",
      "559\n",
      "559\n"
     ]
    }
   ],
   "source": [
    "# Import data\n",
    "data = genfromtxt('breast_cancer.csv', delimiter=',')\n",
    "data = data.astype('int32')\n",
    "\n",
    "# Randomly select 80% of the dataset as your training set and the rest 20% as your testing set.\n",
    "xTrain = []\n",
    "xTest = []\n",
    "yTrain = []\n",
    "yTest = []\n",
    "\n",
    "sampleSize = int(.8*len(data))\n",
    "xTrain = data[0:sampleSize, 0:10]\n",
    "yTrain = data[0:sampleSize, -1]\n",
    "xTest = data[sampleSize+1:len(data), 0:10]\n",
    "yTest = data[sampleSize+1:len(data), -1]\n",
    "\n",
    "for i in range(len(yTest)):\n",
    "    if yTest[i] == 2.0:\n",
    "        yTest[i] = -1\n",
    "    elif yTest[i] == 4.0:\n",
    "        yTest[i] = 1\n",
    "    else:\n",
    "        print 'WTF'\n",
    "        \n",
    "for i in range(len(yTrain)):\n",
    "    if yTrain[i] == 2.0:\n",
    "        yTrain[i] = -1\n",
    "    elif yTrain[i] == 4.0:\n",
    "        yTrain[i] = 1\n",
    "    else:\n",
    "        print 'WTF'\n",
    "    \n",
    "xTest = tuple(map(tuple, xTest))\n",
    "yTest = tuple(yTest)\n",
    "xTrain = tuple(map(tuple, xTrain))\n",
    "yTrain = tuple(yTrain)\n",
    "\n",
    "print sampleSize\n",
    "\n",
    "print len(xTest)\n",
    "print len(yTest)\n",
    "print len(xTrain)\n",
    "print len(yTrain)"
   ]
  },
  {
   "cell_type": "code",
   "execution_count": null,
   "metadata": {
    "collapsed": false
   },
   "outputs": [],
   "source": [
    "# Train a SVM Classifier using a Linear Kernel. \n",
    "# Use 10 fold cross-validation to select the parameter C for the cost of outliers.\n",
    "\n",
    "svc = svm.SVC(C=1.0, cache_size=200, class_weight=None, coef0=0.0,\n",
    "    decision_function_shape='ovo', degree=3, gamma='auto', kernel='linear',\n",
    "    max_iter=-1, probability=False, random_state=None, shrinking=True,\n",
    "    tol=0.001, verbose=False)\n",
    "\n",
    "C_range = np.logspace(0,1)\n",
    "param_grid = dict(C=C_range)\n",
    "grid = GridSearchCV(svc, param_grid=param_grid, cv=2)\n",
    "grid.fit(xTrain, yTrain)\n",
    "\n",
    "print(\"The best parameters are %s with a score of %0.2f\"\n",
    "      % (grid.best_params_, grid.best_score_))\n",
    "\n",
    "# Test the model\n",
    "predictions = grid.score(xTest, yTest)\n",
    "print predictions"
   ]
  },
  {
   "cell_type": "code",
   "execution_count": null,
   "metadata": {
    "collapsed": true
   },
   "outputs": [],
   "source": []
  }
 ],
 "metadata": {
  "kernelspec": {
   "display_name": "Python 2",
   "language": "python",
   "name": "python2"
  },
  "language_info": {
   "codemirror_mode": {
    "name": "ipython",
    "version": 2
   },
   "file_extension": ".py",
   "mimetype": "text/x-python",
   "name": "python",
   "nbconvert_exporter": "python",
   "pygments_lexer": "ipython2",
   "version": "2.7.11"
  }
 },
 "nbformat": 4,
 "nbformat_minor": 0
}
